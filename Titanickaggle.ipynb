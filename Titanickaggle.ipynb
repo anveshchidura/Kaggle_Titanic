{
  "nbformat": 4,
  "nbformat_minor": 0,
  "metadata": {
    "colab": {
      "name": "Titanickaggle",
      "version": "0.3.2",
      "provenance": [],
      "collapsed_sections": []
    },
    "kernelspec": {
      "name": "python3",
      "display_name": "Python 3"
    }
  },
  "cells": [
    {
      "cell_type": "code",
      "metadata": {
        "id": "m5aVfIWhxsO0",
        "colab_type": "code",
        "outputId": "7e8b525c-fca5-4459-e7bd-8a9019eeddf4",
        "colab": {
          "base_uri": "https://localhost:8080/",
          "height": 124
        }
      },
      "source": [
        "from google.colab import drive\n",
        "drive.mount('/content/drive')"
      ],
      "execution_count": 1,
      "outputs": [
        {
          "output_type": "stream",
          "text": [
            "Go to this URL in a browser: https://accounts.google.com/o/oauth2/auth?client_id=947318989803-6bn6qk8qdgf4n4g3pfee6491hc0brc4i.apps.googleusercontent.com&redirect_uri=urn%3Aietf%3Awg%3Aoauth%3A2.0%3Aoob&scope=email%20https%3A%2F%2Fwww.googleapis.com%2Fauth%2Fdocs.test%20https%3A%2F%2Fwww.googleapis.com%2Fauth%2Fdrive%20https%3A%2F%2Fwww.googleapis.com%2Fauth%2Fdrive.photos.readonly%20https%3A%2F%2Fwww.googleapis.com%2Fauth%2Fpeopleapi.readonly&response_type=code\n",
            "\n",
            "Enter your authorization code:\n",
            "··········\n",
            "Mounted at /content/drive\n"
          ],
          "name": "stdout"
        }
      ]
    },
    {
      "cell_type": "code",
      "metadata": {
        "id": "9JsRsDpGxsQ_",
        "colab_type": "code",
        "colab": {
          "base_uri": "https://localhost:8080/",
          "height": 35
        },
        "outputId": "a4b701f2-0401-47c8-f19a-41dfabbcf1c6"
      },
      "source": [
        "import numpy as np\n",
        "import pandas as pd\n",
        "import re as re\n",
        "import matplotlib.pyplot as plt\n",
        "# %matplotlib inline\n",
        "\n",
        "import os\n",
        "import tensorflow\n",
        "os.environ['KERAS_BACKEND'] = 'tensorflow'\n",
        "import keras\n",
        "from keras.models import Sequential\n",
        "from keras.layers import Dense, Dropout\n",
        "from keras import metrics\n",
        "\n",
        "from sklearn.model_selection import train_test_split\n",
        "from sklearn.preprocessing import LabelEncoder, OneHotEncoder\n",
        "from sklearn.preprocessing import StandardScaler\n",
        "from sklearn.metrics import confusion_matrix, accuracy_score\n",
        "train = pd.read_csv('/content/drive/My Drive/titanic (1)/train.csv', header = 0, dtype={'Age': np.float64})\n",
        "test  = pd.read_csv('/content/drive/My Drive/titanic (1)/test.csv' , header = 0, dtype={'Age': np.float64})\n",
        "full_data = [train, test]\n",
        "PassengerId = test['PassengerId']"
      ],
      "execution_count": 2,
      "outputs": [
        {
          "output_type": "stream",
          "text": [
            "Using TensorFlow backend.\n"
          ],
          "name": "stderr"
        }
      ]
    },
    {
      "cell_type": "code",
      "metadata": {
        "id": "vXNS4IEy5nwG",
        "colab_type": "code",
        "outputId": "db2645f8-5848-43f9-99ad-a75272ab1cc6",
        "colab": {
          "base_uri": "https://localhost:8080/",
          "height": 191
        }
      },
      "source": [
        "for dataset in full_data:\n",
        "    dataset['FamilySize'] = dataset['SibSp'] + dataset['Parch'] + 1\n",
        "print (train[['FamilySize', 'Survived']].groupby(['FamilySize'], as_index=False).mean())"
      ],
      "execution_count": 3,
      "outputs": [
        {
          "output_type": "stream",
          "text": [
            "   FamilySize  Survived\n",
            "0           1  0.303538\n",
            "1           2  0.552795\n",
            "2           3  0.578431\n",
            "3           4  0.724138\n",
            "4           5  0.200000\n",
            "5           6  0.136364\n",
            "6           7  0.333333\n",
            "7           8  0.000000\n",
            "8          11  0.000000\n"
          ],
          "name": "stdout"
        }
      ]
    },
    {
      "cell_type": "code",
      "metadata": {
        "id": "2N8IbEhZ5ntC",
        "colab_type": "code",
        "outputId": "7627be21-a966-441c-d74f-63d738e5f5e9",
        "colab": {
          "base_uri": "https://localhost:8080/",
          "height": 69
        }
      },
      "source": [
        "for dataset in full_data:\n",
        "    dataset['IsAlone'] = 0\n",
        "    dataset.loc[dataset['FamilySize'] == 1, 'IsAlone'] = 1\n",
        "print (train[['IsAlone', 'Survived']].groupby(['IsAlone'], as_index=False).mean())"
      ],
      "execution_count": 4,
      "outputs": [
        {
          "output_type": "stream",
          "text": [
            "   IsAlone  Survived\n",
            "0        0  0.505650\n",
            "1        1  0.303538\n"
          ],
          "name": "stdout"
        }
      ]
    },
    {
      "cell_type": "code",
      "metadata": {
        "id": "dE8APF0j5nqe",
        "colab_type": "code",
        "outputId": "2cf4d7cc-6307-4adf-ed73-eb8728a88074",
        "colab": {
          "base_uri": "https://localhost:8080/",
          "height": 87
        }
      },
      "source": [
        "for dataset in full_data:\n",
        "    dataset['Embarked'] = dataset['Embarked'].fillna('S')\n",
        "print (train[['Embarked', 'Survived']].groupby(['Embarked'], as_index=False).mean())"
      ],
      "execution_count": 5,
      "outputs": [
        {
          "output_type": "stream",
          "text": [
            "  Embarked  Survived\n",
            "0        C  0.553571\n",
            "1        Q  0.389610\n",
            "2        S  0.339009\n"
          ],
          "name": "stdout"
        }
      ]
    },
    {
      "cell_type": "code",
      "metadata": {
        "id": "yH-xuB0Z535g",
        "colab_type": "code",
        "outputId": "67e2fcff-c8f3-42ac-9e69-a25425e24f77",
        "colab": {
          "base_uri": "https://localhost:8080/",
          "height": 104
        }
      },
      "source": [
        "for dataset in full_data:\n",
        "    dataset['Fare'] = dataset['Fare'].fillna(train['Fare'].median())\n",
        "train['CategoricalFare'] = pd.qcut(train['Fare'], 4)\n",
        "print (train[['CategoricalFare', 'Survived']].groupby(['CategoricalFare'], as_index=False).mean())"
      ],
      "execution_count": 6,
      "outputs": [
        {
          "output_type": "stream",
          "text": [
            "   CategoricalFare  Survived\n",
            "0   (-0.001, 7.91]  0.197309\n",
            "1   (7.91, 14.454]  0.303571\n",
            "2   (14.454, 31.0]  0.454955\n",
            "3  (31.0, 512.329]  0.581081\n"
          ],
          "name": "stdout"
        }
      ]
    },
    {
      "cell_type": "code",
      "metadata": {
        "id": "g8ebDfae533Z",
        "colab_type": "code",
        "outputId": "58a1d967-4cec-4db0-b440-d72389df7570",
        "colab": {
          "base_uri": "https://localhost:8080/",
          "height": 208
        }
      },
      "source": [
        "for dataset in full_data:\n",
        "    age_avg \t   = dataset['Age'].mean()\n",
        "    age_std \t   = dataset['Age'].std()\n",
        "    age_null_count = dataset['Age'].isnull().sum()\n",
        "    \n",
        "    age_null_random_list = np.random.randint(age_avg - age_std, age_avg + age_std, size=age_null_count)\n",
        "    dataset['Age'][np.isnan(dataset['Age'])] = age_null_random_list\n",
        "    dataset['Age'] = dataset['Age'].astype(int)\n",
        "    \n",
        "train['CategoricalAge'] = pd.cut(train['Age'], 5)\n",
        "\n",
        "print (train[['CategoricalAge', 'Survived']].groupby(['CategoricalAge'], as_index=False).mean())"
      ],
      "execution_count": 7,
      "outputs": [
        {
          "output_type": "stream",
          "text": [
            "  CategoricalAge  Survived\n",
            "0  (-0.08, 16.0]  0.508475\n",
            "1   (16.0, 32.0]  0.356808\n",
            "2   (32.0, 48.0]  0.370787\n",
            "3   (48.0, 64.0]  0.434783\n",
            "4   (64.0, 80.0]  0.090909\n"
          ],
          "name": "stdout"
        },
        {
          "output_type": "stream",
          "text": [
            "/usr/local/lib/python3.6/dist-packages/ipykernel_launcher.py:7: SettingWithCopyWarning: \n",
            "A value is trying to be set on a copy of a slice from a DataFrame\n",
            "\n",
            "See the caveats in the documentation: http://pandas.pydata.org/pandas-docs/stable/indexing.html#indexing-view-versus-copy\n",
            "  import sys\n"
          ],
          "name": "stderr"
        }
      ]
    },
    {
      "cell_type": "code",
      "metadata": {
        "id": "Z6A6FIpo53to",
        "colab_type": "code",
        "outputId": "7b95831f-bd01-41d2-a778-e7ccf27d776a",
        "colab": {
          "base_uri": "https://localhost:8080/",
          "height": 347
        }
      },
      "source": [
        "def get_title(name):\n",
        "\ttitle_search = re.search(' ([A-Za-z]+)\\.', name)\n",
        "\t# If the title exists, extract and return it.\n",
        "\tif title_search:\n",
        "\t\treturn title_search.group(1)\n",
        "\treturn \"\"\n",
        "\n",
        "for dataset in full_data:\n",
        "    dataset['Title'] = dataset['Name'].apply(get_title)\n",
        "\n",
        "print(pd.crosstab(train['Title'], train['Sex']))"
      ],
      "execution_count": 8,
      "outputs": [
        {
          "output_type": "stream",
          "text": [
            "Sex       female  male\n",
            "Title                 \n",
            "Capt           0     1\n",
            "Col            0     2\n",
            "Countess       1     0\n",
            "Don            0     1\n",
            "Dr             1     6\n",
            "Jonkheer       0     1\n",
            "Lady           1     0\n",
            "Major          0     2\n",
            "Master         0    40\n",
            "Miss         182     0\n",
            "Mlle           2     0\n",
            "Mme            1     0\n",
            "Mr             0   517\n",
            "Mrs          125     0\n",
            "Ms             1     0\n",
            "Rev            0     6\n",
            "Sir            0     1\n"
          ],
          "name": "stdout"
        }
      ]
    },
    {
      "cell_type": "code",
      "metadata": {
        "id": "iDUe112O6IY-",
        "colab_type": "code",
        "outputId": "6ab39a71-edc0-40aa-a8b3-3d5b06ca8b11",
        "colab": {
          "base_uri": "https://localhost:8080/",
          "height": 121
        }
      },
      "source": [
        "for dataset in full_data:\n",
        "    dataset['Title'] = dataset['Title'].replace(['Lady', 'Countess','Capt', 'Col',\\\n",
        " \t'Don', 'Dr', 'Major', 'Rev', 'Sir', 'Jonkheer', 'Dona'], 'Rare')\n",
        "\n",
        "    dataset['Title'] = dataset['Title'].replace('Mlle', 'Miss')\n",
        "    dataset['Title'] = dataset['Title'].replace('Ms', 'Miss')\n",
        "    dataset['Title'] = dataset['Title'].replace('Mme', 'Mrs')\n",
        "\n",
        "print (train[['Title', 'Survived']].groupby(['Title'], as_index=False).mean())"
      ],
      "execution_count": 9,
      "outputs": [
        {
          "output_type": "stream",
          "text": [
            "    Title  Survived\n",
            "0  Master  0.575000\n",
            "1    Miss  0.702703\n",
            "2      Mr  0.156673\n",
            "3     Mrs  0.793651\n",
            "4    Rare  0.347826\n"
          ],
          "name": "stdout"
        }
      ]
    },
    {
      "cell_type": "code",
      "metadata": {
        "id": "kfjh5gBD6IXB",
        "colab_type": "code",
        "colab": {}
      },
      "source": [
        "for dataset in full_data:   \n",
        "    dataset['Embarked'] = dataset['Embarked'].map( {'S': 0, 'C': 1, 'Q': 2} ).astype(int)"
      ],
      "execution_count": 0,
      "outputs": []
    },
    {
      "cell_type": "code",
      "metadata": {
        "id": "fiy8IKTh6IM8",
        "colab_type": "code",
        "outputId": "39d49b4a-b13c-4cb8-c396-98744d4080fc",
        "colab": {
          "base_uri": "https://localhost:8080/",
          "height": 499
        }
      },
      "source": [
        "train.head()"
      ],
      "execution_count": 11,
      "outputs": [
        {
          "output_type": "execute_result",
          "data": {
            "text/html": [
              "<div>\n",
              "<style scoped>\n",
              "    .dataframe tbody tr th:only-of-type {\n",
              "        vertical-align: middle;\n",
              "    }\n",
              "\n",
              "    .dataframe tbody tr th {\n",
              "        vertical-align: top;\n",
              "    }\n",
              "\n",
              "    .dataframe thead th {\n",
              "        text-align: right;\n",
              "    }\n",
              "</style>\n",
              "<table border=\"1\" class=\"dataframe\">\n",
              "  <thead>\n",
              "    <tr style=\"text-align: right;\">\n",
              "      <th></th>\n",
              "      <th>PassengerId</th>\n",
              "      <th>Survived</th>\n",
              "      <th>Pclass</th>\n",
              "      <th>Name</th>\n",
              "      <th>Sex</th>\n",
              "      <th>Age</th>\n",
              "      <th>SibSp</th>\n",
              "      <th>Parch</th>\n",
              "      <th>Ticket</th>\n",
              "      <th>Fare</th>\n",
              "      <th>Cabin</th>\n",
              "      <th>Embarked</th>\n",
              "      <th>FamilySize</th>\n",
              "      <th>IsAlone</th>\n",
              "      <th>CategoricalFare</th>\n",
              "      <th>CategoricalAge</th>\n",
              "      <th>Title</th>\n",
              "    </tr>\n",
              "  </thead>\n",
              "  <tbody>\n",
              "    <tr>\n",
              "      <th>0</th>\n",
              "      <td>1</td>\n",
              "      <td>0</td>\n",
              "      <td>3</td>\n",
              "      <td>Braund, Mr. Owen Harris</td>\n",
              "      <td>male</td>\n",
              "      <td>22</td>\n",
              "      <td>1</td>\n",
              "      <td>0</td>\n",
              "      <td>A/5 21171</td>\n",
              "      <td>7.2500</td>\n",
              "      <td>NaN</td>\n",
              "      <td>0</td>\n",
              "      <td>2</td>\n",
              "      <td>0</td>\n",
              "      <td>(-0.001, 7.91]</td>\n",
              "      <td>(16.0, 32.0]</td>\n",
              "      <td>Mr</td>\n",
              "    </tr>\n",
              "    <tr>\n",
              "      <th>1</th>\n",
              "      <td>2</td>\n",
              "      <td>1</td>\n",
              "      <td>1</td>\n",
              "      <td>Cumings, Mrs. John Bradley (Florence Briggs Th...</td>\n",
              "      <td>female</td>\n",
              "      <td>38</td>\n",
              "      <td>1</td>\n",
              "      <td>0</td>\n",
              "      <td>PC 17599</td>\n",
              "      <td>71.2833</td>\n",
              "      <td>C85</td>\n",
              "      <td>1</td>\n",
              "      <td>2</td>\n",
              "      <td>0</td>\n",
              "      <td>(31.0, 512.329]</td>\n",
              "      <td>(32.0, 48.0]</td>\n",
              "      <td>Mrs</td>\n",
              "    </tr>\n",
              "    <tr>\n",
              "      <th>2</th>\n",
              "      <td>3</td>\n",
              "      <td>1</td>\n",
              "      <td>3</td>\n",
              "      <td>Heikkinen, Miss. Laina</td>\n",
              "      <td>female</td>\n",
              "      <td>26</td>\n",
              "      <td>0</td>\n",
              "      <td>0</td>\n",
              "      <td>STON/O2. 3101282</td>\n",
              "      <td>7.9250</td>\n",
              "      <td>NaN</td>\n",
              "      <td>0</td>\n",
              "      <td>1</td>\n",
              "      <td>1</td>\n",
              "      <td>(7.91, 14.454]</td>\n",
              "      <td>(16.0, 32.0]</td>\n",
              "      <td>Miss</td>\n",
              "    </tr>\n",
              "    <tr>\n",
              "      <th>3</th>\n",
              "      <td>4</td>\n",
              "      <td>1</td>\n",
              "      <td>1</td>\n",
              "      <td>Futrelle, Mrs. Jacques Heath (Lily May Peel)</td>\n",
              "      <td>female</td>\n",
              "      <td>35</td>\n",
              "      <td>1</td>\n",
              "      <td>0</td>\n",
              "      <td>113803</td>\n",
              "      <td>53.1000</td>\n",
              "      <td>C123</td>\n",
              "      <td>0</td>\n",
              "      <td>2</td>\n",
              "      <td>0</td>\n",
              "      <td>(31.0, 512.329]</td>\n",
              "      <td>(32.0, 48.0]</td>\n",
              "      <td>Mrs</td>\n",
              "    </tr>\n",
              "    <tr>\n",
              "      <th>4</th>\n",
              "      <td>5</td>\n",
              "      <td>0</td>\n",
              "      <td>3</td>\n",
              "      <td>Allen, Mr. William Henry</td>\n",
              "      <td>male</td>\n",
              "      <td>35</td>\n",
              "      <td>0</td>\n",
              "      <td>0</td>\n",
              "      <td>373450</td>\n",
              "      <td>8.0500</td>\n",
              "      <td>NaN</td>\n",
              "      <td>0</td>\n",
              "      <td>1</td>\n",
              "      <td>1</td>\n",
              "      <td>(7.91, 14.454]</td>\n",
              "      <td>(32.0, 48.0]</td>\n",
              "      <td>Mr</td>\n",
              "    </tr>\n",
              "  </tbody>\n",
              "</table>\n",
              "</div>"
            ],
            "text/plain": [
              "   PassengerId  Survived  Pclass  ...  CategoricalFare CategoricalAge  Title\n",
              "0            1         0       3  ...   (-0.001, 7.91]   (16.0, 32.0]     Mr\n",
              "1            2         1       1  ...  (31.0, 512.329]   (32.0, 48.0]    Mrs\n",
              "2            3         1       3  ...   (7.91, 14.454]   (16.0, 32.0]   Miss\n",
              "3            4         1       1  ...  (31.0, 512.329]   (32.0, 48.0]    Mrs\n",
              "4            5         0       3  ...   (7.91, 14.454]   (32.0, 48.0]     Mr\n",
              "\n",
              "[5 rows x 17 columns]"
            ]
          },
          "metadata": {
            "tags": []
          },
          "execution_count": 11
        }
      ]
    },
    {
      "cell_type": "code",
      "metadata": {
        "id": "4HpJ-gfGxsVp",
        "colab_type": "code",
        "colab": {}
      },
      "source": [
        "for dataset in full_data:\n",
        "    # Mapping Sex\n",
        "    dataset['Sex'] = dataset['Sex'].map( {'female': 0, 'male': 1} ).astype(int)\n"
      ],
      "execution_count": 0,
      "outputs": []
    },
    {
      "cell_type": "code",
      "metadata": {
        "id": "QH5g8F0Xxsc1",
        "colab_type": "code",
        "outputId": "e2dfec6f-18ba-4e01-ff19-cf16f0f2df7e",
        "colab": {
          "base_uri": "https://localhost:8080/",
          "height": 499
        }
      },
      "source": [
        "train.head()"
      ],
      "execution_count": 13,
      "outputs": [
        {
          "output_type": "execute_result",
          "data": {
            "text/html": [
              "<div>\n",
              "<style scoped>\n",
              "    .dataframe tbody tr th:only-of-type {\n",
              "        vertical-align: middle;\n",
              "    }\n",
              "\n",
              "    .dataframe tbody tr th {\n",
              "        vertical-align: top;\n",
              "    }\n",
              "\n",
              "    .dataframe thead th {\n",
              "        text-align: right;\n",
              "    }\n",
              "</style>\n",
              "<table border=\"1\" class=\"dataframe\">\n",
              "  <thead>\n",
              "    <tr style=\"text-align: right;\">\n",
              "      <th></th>\n",
              "      <th>PassengerId</th>\n",
              "      <th>Survived</th>\n",
              "      <th>Pclass</th>\n",
              "      <th>Name</th>\n",
              "      <th>Sex</th>\n",
              "      <th>Age</th>\n",
              "      <th>SibSp</th>\n",
              "      <th>Parch</th>\n",
              "      <th>Ticket</th>\n",
              "      <th>Fare</th>\n",
              "      <th>Cabin</th>\n",
              "      <th>Embarked</th>\n",
              "      <th>FamilySize</th>\n",
              "      <th>IsAlone</th>\n",
              "      <th>CategoricalFare</th>\n",
              "      <th>CategoricalAge</th>\n",
              "      <th>Title</th>\n",
              "    </tr>\n",
              "  </thead>\n",
              "  <tbody>\n",
              "    <tr>\n",
              "      <th>0</th>\n",
              "      <td>1</td>\n",
              "      <td>0</td>\n",
              "      <td>3</td>\n",
              "      <td>Braund, Mr. Owen Harris</td>\n",
              "      <td>1</td>\n",
              "      <td>22</td>\n",
              "      <td>1</td>\n",
              "      <td>0</td>\n",
              "      <td>A/5 21171</td>\n",
              "      <td>7.2500</td>\n",
              "      <td>NaN</td>\n",
              "      <td>0</td>\n",
              "      <td>2</td>\n",
              "      <td>0</td>\n",
              "      <td>(-0.001, 7.91]</td>\n",
              "      <td>(16.0, 32.0]</td>\n",
              "      <td>Mr</td>\n",
              "    </tr>\n",
              "    <tr>\n",
              "      <th>1</th>\n",
              "      <td>2</td>\n",
              "      <td>1</td>\n",
              "      <td>1</td>\n",
              "      <td>Cumings, Mrs. John Bradley (Florence Briggs Th...</td>\n",
              "      <td>0</td>\n",
              "      <td>38</td>\n",
              "      <td>1</td>\n",
              "      <td>0</td>\n",
              "      <td>PC 17599</td>\n",
              "      <td>71.2833</td>\n",
              "      <td>C85</td>\n",
              "      <td>1</td>\n",
              "      <td>2</td>\n",
              "      <td>0</td>\n",
              "      <td>(31.0, 512.329]</td>\n",
              "      <td>(32.0, 48.0]</td>\n",
              "      <td>Mrs</td>\n",
              "    </tr>\n",
              "    <tr>\n",
              "      <th>2</th>\n",
              "      <td>3</td>\n",
              "      <td>1</td>\n",
              "      <td>3</td>\n",
              "      <td>Heikkinen, Miss. Laina</td>\n",
              "      <td>0</td>\n",
              "      <td>26</td>\n",
              "      <td>0</td>\n",
              "      <td>0</td>\n",
              "      <td>STON/O2. 3101282</td>\n",
              "      <td>7.9250</td>\n",
              "      <td>NaN</td>\n",
              "      <td>0</td>\n",
              "      <td>1</td>\n",
              "      <td>1</td>\n",
              "      <td>(7.91, 14.454]</td>\n",
              "      <td>(16.0, 32.0]</td>\n",
              "      <td>Miss</td>\n",
              "    </tr>\n",
              "    <tr>\n",
              "      <th>3</th>\n",
              "      <td>4</td>\n",
              "      <td>1</td>\n",
              "      <td>1</td>\n",
              "      <td>Futrelle, Mrs. Jacques Heath (Lily May Peel)</td>\n",
              "      <td>0</td>\n",
              "      <td>35</td>\n",
              "      <td>1</td>\n",
              "      <td>0</td>\n",
              "      <td>113803</td>\n",
              "      <td>53.1000</td>\n",
              "      <td>C123</td>\n",
              "      <td>0</td>\n",
              "      <td>2</td>\n",
              "      <td>0</td>\n",
              "      <td>(31.0, 512.329]</td>\n",
              "      <td>(32.0, 48.0]</td>\n",
              "      <td>Mrs</td>\n",
              "    </tr>\n",
              "    <tr>\n",
              "      <th>4</th>\n",
              "      <td>5</td>\n",
              "      <td>0</td>\n",
              "      <td>3</td>\n",
              "      <td>Allen, Mr. William Henry</td>\n",
              "      <td>1</td>\n",
              "      <td>35</td>\n",
              "      <td>0</td>\n",
              "      <td>0</td>\n",
              "      <td>373450</td>\n",
              "      <td>8.0500</td>\n",
              "      <td>NaN</td>\n",
              "      <td>0</td>\n",
              "      <td>1</td>\n",
              "      <td>1</td>\n",
              "      <td>(7.91, 14.454]</td>\n",
              "      <td>(32.0, 48.0]</td>\n",
              "      <td>Mr</td>\n",
              "    </tr>\n",
              "  </tbody>\n",
              "</table>\n",
              "</div>"
            ],
            "text/plain": [
              "   PassengerId  Survived  Pclass  ...  CategoricalFare  CategoricalAge  Title\n",
              "0            1         0       3  ...   (-0.001, 7.91]    (16.0, 32.0]     Mr\n",
              "1            2         1       1  ...  (31.0, 512.329]    (32.0, 48.0]    Mrs\n",
              "2            3         1       3  ...   (7.91, 14.454]    (16.0, 32.0]   Miss\n",
              "3            4         1       1  ...  (31.0, 512.329]    (32.0, 48.0]    Mrs\n",
              "4            5         0       3  ...   (7.91, 14.454]    (32.0, 48.0]     Mr\n",
              "\n",
              "[5 rows x 17 columns]"
            ]
          },
          "metadata": {
            "tags": []
          },
          "execution_count": 13
        }
      ]
    },
    {
      "cell_type": "code",
      "metadata": {
        "id": "jU8NtmbRxse6",
        "colab_type": "code",
        "colab": {}
      },
      "source": [
        "for dataset in full_data:\n",
        "    title_mapping = {\"Mr\": 1, \"Miss\": 2, \"Mrs\": 3, \"Master\": 4, \"Rare\": 5}\n",
        "    dataset['Title'] = dataset['Title'].map(title_mapping)\n",
        "    dataset['Title'] = dataset['Title'].fillna(0)"
      ],
      "execution_count": 0,
      "outputs": []
    },
    {
      "cell_type": "code",
      "metadata": {
        "id": "MPE852RSxskA",
        "colab_type": "code",
        "outputId": "ba3dccb9-3840-41df-ca2b-7727f7ad3692",
        "colab": {
          "base_uri": "https://localhost:8080/",
          "height": 499
        }
      },
      "source": [
        "train.head()"
      ],
      "execution_count": 15,
      "outputs": [
        {
          "output_type": "execute_result",
          "data": {
            "text/html": [
              "<div>\n",
              "<style scoped>\n",
              "    .dataframe tbody tr th:only-of-type {\n",
              "        vertical-align: middle;\n",
              "    }\n",
              "\n",
              "    .dataframe tbody tr th {\n",
              "        vertical-align: top;\n",
              "    }\n",
              "\n",
              "    .dataframe thead th {\n",
              "        text-align: right;\n",
              "    }\n",
              "</style>\n",
              "<table border=\"1\" class=\"dataframe\">\n",
              "  <thead>\n",
              "    <tr style=\"text-align: right;\">\n",
              "      <th></th>\n",
              "      <th>PassengerId</th>\n",
              "      <th>Survived</th>\n",
              "      <th>Pclass</th>\n",
              "      <th>Name</th>\n",
              "      <th>Sex</th>\n",
              "      <th>Age</th>\n",
              "      <th>SibSp</th>\n",
              "      <th>Parch</th>\n",
              "      <th>Ticket</th>\n",
              "      <th>Fare</th>\n",
              "      <th>Cabin</th>\n",
              "      <th>Embarked</th>\n",
              "      <th>FamilySize</th>\n",
              "      <th>IsAlone</th>\n",
              "      <th>CategoricalFare</th>\n",
              "      <th>CategoricalAge</th>\n",
              "      <th>Title</th>\n",
              "    </tr>\n",
              "  </thead>\n",
              "  <tbody>\n",
              "    <tr>\n",
              "      <th>0</th>\n",
              "      <td>1</td>\n",
              "      <td>0</td>\n",
              "      <td>3</td>\n",
              "      <td>Braund, Mr. Owen Harris</td>\n",
              "      <td>1</td>\n",
              "      <td>22</td>\n",
              "      <td>1</td>\n",
              "      <td>0</td>\n",
              "      <td>A/5 21171</td>\n",
              "      <td>7.2500</td>\n",
              "      <td>NaN</td>\n",
              "      <td>0</td>\n",
              "      <td>2</td>\n",
              "      <td>0</td>\n",
              "      <td>(-0.001, 7.91]</td>\n",
              "      <td>(16.0, 32.0]</td>\n",
              "      <td>1</td>\n",
              "    </tr>\n",
              "    <tr>\n",
              "      <th>1</th>\n",
              "      <td>2</td>\n",
              "      <td>1</td>\n",
              "      <td>1</td>\n",
              "      <td>Cumings, Mrs. John Bradley (Florence Briggs Th...</td>\n",
              "      <td>0</td>\n",
              "      <td>38</td>\n",
              "      <td>1</td>\n",
              "      <td>0</td>\n",
              "      <td>PC 17599</td>\n",
              "      <td>71.2833</td>\n",
              "      <td>C85</td>\n",
              "      <td>1</td>\n",
              "      <td>2</td>\n",
              "      <td>0</td>\n",
              "      <td>(31.0, 512.329]</td>\n",
              "      <td>(32.0, 48.0]</td>\n",
              "      <td>3</td>\n",
              "    </tr>\n",
              "    <tr>\n",
              "      <th>2</th>\n",
              "      <td>3</td>\n",
              "      <td>1</td>\n",
              "      <td>3</td>\n",
              "      <td>Heikkinen, Miss. Laina</td>\n",
              "      <td>0</td>\n",
              "      <td>26</td>\n",
              "      <td>0</td>\n",
              "      <td>0</td>\n",
              "      <td>STON/O2. 3101282</td>\n",
              "      <td>7.9250</td>\n",
              "      <td>NaN</td>\n",
              "      <td>0</td>\n",
              "      <td>1</td>\n",
              "      <td>1</td>\n",
              "      <td>(7.91, 14.454]</td>\n",
              "      <td>(16.0, 32.0]</td>\n",
              "      <td>2</td>\n",
              "    </tr>\n",
              "    <tr>\n",
              "      <th>3</th>\n",
              "      <td>4</td>\n",
              "      <td>1</td>\n",
              "      <td>1</td>\n",
              "      <td>Futrelle, Mrs. Jacques Heath (Lily May Peel)</td>\n",
              "      <td>0</td>\n",
              "      <td>35</td>\n",
              "      <td>1</td>\n",
              "      <td>0</td>\n",
              "      <td>113803</td>\n",
              "      <td>53.1000</td>\n",
              "      <td>C123</td>\n",
              "      <td>0</td>\n",
              "      <td>2</td>\n",
              "      <td>0</td>\n",
              "      <td>(31.0, 512.329]</td>\n",
              "      <td>(32.0, 48.0]</td>\n",
              "      <td>3</td>\n",
              "    </tr>\n",
              "    <tr>\n",
              "      <th>4</th>\n",
              "      <td>5</td>\n",
              "      <td>0</td>\n",
              "      <td>3</td>\n",
              "      <td>Allen, Mr. William Henry</td>\n",
              "      <td>1</td>\n",
              "      <td>35</td>\n",
              "      <td>0</td>\n",
              "      <td>0</td>\n",
              "      <td>373450</td>\n",
              "      <td>8.0500</td>\n",
              "      <td>NaN</td>\n",
              "      <td>0</td>\n",
              "      <td>1</td>\n",
              "      <td>1</td>\n",
              "      <td>(7.91, 14.454]</td>\n",
              "      <td>(32.0, 48.0]</td>\n",
              "      <td>1</td>\n",
              "    </tr>\n",
              "  </tbody>\n",
              "</table>\n",
              "</div>"
            ],
            "text/plain": [
              "   PassengerId  Survived  Pclass  ...  CategoricalFare  CategoricalAge  Title\n",
              "0            1         0       3  ...   (-0.001, 7.91]    (16.0, 32.0]      1\n",
              "1            2         1       1  ...  (31.0, 512.329]    (32.0, 48.0]      3\n",
              "2            3         1       3  ...   (7.91, 14.454]    (16.0, 32.0]      2\n",
              "3            4         1       1  ...  (31.0, 512.329]    (32.0, 48.0]      3\n",
              "4            5         0       3  ...   (7.91, 14.454]    (32.0, 48.0]      1\n",
              "\n",
              "[5 rows x 17 columns]"
            ]
          },
          "metadata": {
            "tags": []
          },
          "execution_count": 15
        }
      ]
    },
    {
      "cell_type": "code",
      "metadata": {
        "id": "u0Fu1exAxsoU",
        "colab_type": "code",
        "colab": {}
      },
      "source": [
        "for dataset in full_data:\n",
        "  # Mapping Fare\n",
        "    dataset.loc[ dataset['Fare'] <= 7.91, 'Fare'] = 0\n",
        "    dataset.loc[(dataset['Fare'] > 7.91) & (dataset['Fare'] <= 14.454), 'Fare'] = 1\n",
        "    dataset.loc[(dataset['Fare'] > 14.454) & (dataset['Fare'] <= 31), 'Fare']   = 2\n",
        "    dataset.loc[ dataset['Fare'] > 31, 'Fare']  = 3\n",
        "    dataset['Fare'] = dataset['Fare'].astype(int)"
      ],
      "execution_count": 0,
      "outputs": []
    },
    {
      "cell_type": "code",
      "metadata": {
        "id": "I8TcVAqJxsrU",
        "colab_type": "code",
        "outputId": "c4590395-660f-4cab-bc02-2f2a27ec6ee4",
        "colab": {
          "base_uri": "https://localhost:8080/",
          "height": 208
        }
      },
      "source": [
        "for dataset in full_data:\n",
        "# Mapping Age\n",
        "    dataset.loc[ dataset['Age'] <= 16, 'Age'] = 0\n",
        "    dataset.loc[(dataset['Age'] > 16) & (dataset['Age'] <= 32), 'Age'] = 1\n",
        "    dataset.loc[(dataset['Age'] > 32) & (dataset['Age'] <= 48), 'Age'] = 2\n",
        "    dataset.loc[(dataset['Age'] > 48) & (dataset['Age'] <= 64), 'Age'] = 3\n",
        "    dataset.loc[ dataset['Age'] > 64, 'Age'] = 4\n",
        "\n",
        "# Feature Selection\n",
        "drop_elements = ['PassengerId', 'Name', 'Ticket', 'Cabin', 'SibSp',\\\n",
        "                 'Parch', 'FamilySize']\n",
        "train = train.drop(drop_elements, axis = 1)\n",
        "train = train.drop(['CategoricalAge', 'CategoricalFare'], axis = 1)\n",
        "\n",
        "test  = test.drop(drop_elements, axis = 1)\n",
        "\n",
        "print (train.head(10))"
      ],
      "execution_count": 17,
      "outputs": [
        {
          "output_type": "stream",
          "text": [
            "   Survived  Pclass  Sex  Age  Fare  Embarked  IsAlone  Title\n",
            "0         0       3    1    1     0         0        0      1\n",
            "1         1       1    0    2     3         1        0      3\n",
            "2         1       3    0    1     1         0        1      2\n",
            "3         1       1    0    2     3         0        0      3\n",
            "4         0       3    1    2     1         0        1      1\n",
            "5         0       3    1    2     1         2        1      1\n",
            "6         0       1    1    3     3         0        1      1\n",
            "7         0       3    1    0     2         0        0      4\n",
            "8         1       3    0    1     1         0        0      3\n",
            "9         1       2    0    0     2         1        0      3\n"
          ],
          "name": "stdout"
        }
      ]
    },
    {
      "cell_type": "code",
      "metadata": {
        "id": "C_i5j0uf_Kjh",
        "colab_type": "code",
        "outputId": "916a76b9-5e90-4ae3-9f7b-29e441b50adc",
        "colab": {
          "base_uri": "https://localhost:8080/",
          "height": 202
        }
      },
      "source": [
        "train.head()"
      ],
      "execution_count": 18,
      "outputs": [
        {
          "output_type": "execute_result",
          "data": {
            "text/html": [
              "<div>\n",
              "<style scoped>\n",
              "    .dataframe tbody tr th:only-of-type {\n",
              "        vertical-align: middle;\n",
              "    }\n",
              "\n",
              "    .dataframe tbody tr th {\n",
              "        vertical-align: top;\n",
              "    }\n",
              "\n",
              "    .dataframe thead th {\n",
              "        text-align: right;\n",
              "    }\n",
              "</style>\n",
              "<table border=\"1\" class=\"dataframe\">\n",
              "  <thead>\n",
              "    <tr style=\"text-align: right;\">\n",
              "      <th></th>\n",
              "      <th>Survived</th>\n",
              "      <th>Pclass</th>\n",
              "      <th>Sex</th>\n",
              "      <th>Age</th>\n",
              "      <th>Fare</th>\n",
              "      <th>Embarked</th>\n",
              "      <th>IsAlone</th>\n",
              "      <th>Title</th>\n",
              "    </tr>\n",
              "  </thead>\n",
              "  <tbody>\n",
              "    <tr>\n",
              "      <th>0</th>\n",
              "      <td>0</td>\n",
              "      <td>3</td>\n",
              "      <td>1</td>\n",
              "      <td>1</td>\n",
              "      <td>0</td>\n",
              "      <td>0</td>\n",
              "      <td>0</td>\n",
              "      <td>1</td>\n",
              "    </tr>\n",
              "    <tr>\n",
              "      <th>1</th>\n",
              "      <td>1</td>\n",
              "      <td>1</td>\n",
              "      <td>0</td>\n",
              "      <td>2</td>\n",
              "      <td>3</td>\n",
              "      <td>1</td>\n",
              "      <td>0</td>\n",
              "      <td>3</td>\n",
              "    </tr>\n",
              "    <tr>\n",
              "      <th>2</th>\n",
              "      <td>1</td>\n",
              "      <td>3</td>\n",
              "      <td>0</td>\n",
              "      <td>1</td>\n",
              "      <td>1</td>\n",
              "      <td>0</td>\n",
              "      <td>1</td>\n",
              "      <td>2</td>\n",
              "    </tr>\n",
              "    <tr>\n",
              "      <th>3</th>\n",
              "      <td>1</td>\n",
              "      <td>1</td>\n",
              "      <td>0</td>\n",
              "      <td>2</td>\n",
              "      <td>3</td>\n",
              "      <td>0</td>\n",
              "      <td>0</td>\n",
              "      <td>3</td>\n",
              "    </tr>\n",
              "    <tr>\n",
              "      <th>4</th>\n",
              "      <td>0</td>\n",
              "      <td>3</td>\n",
              "      <td>1</td>\n",
              "      <td>2</td>\n",
              "      <td>1</td>\n",
              "      <td>0</td>\n",
              "      <td>1</td>\n",
              "      <td>1</td>\n",
              "    </tr>\n",
              "  </tbody>\n",
              "</table>\n",
              "</div>"
            ],
            "text/plain": [
              "   Survived  Pclass  Sex  Age  Fare  Embarked  IsAlone  Title\n",
              "0         0       3    1    1     0         0        0      1\n",
              "1         1       1    0    2     3         1        0      3\n",
              "2         1       3    0    1     1         0        1      2\n",
              "3         1       1    0    2     3         0        0      3\n",
              "4         0       3    1    2     1         0        1      1"
            ]
          },
          "metadata": {
            "tags": []
          },
          "execution_count": 18
        }
      ]
    },
    {
      "cell_type": "code",
      "metadata": {
        "id": "PowshOpAAuMc",
        "colab_type": "code",
        "outputId": "6a8c2f3a-df54-4c9e-8722-36fc54b08147",
        "colab": {
          "base_uri": "https://localhost:8080/",
          "height": 202
        }
      },
      "source": [
        "test.head()"
      ],
      "execution_count": 19,
      "outputs": [
        {
          "output_type": "execute_result",
          "data": {
            "text/html": [
              "<div>\n",
              "<style scoped>\n",
              "    .dataframe tbody tr th:only-of-type {\n",
              "        vertical-align: middle;\n",
              "    }\n",
              "\n",
              "    .dataframe tbody tr th {\n",
              "        vertical-align: top;\n",
              "    }\n",
              "\n",
              "    .dataframe thead th {\n",
              "        text-align: right;\n",
              "    }\n",
              "</style>\n",
              "<table border=\"1\" class=\"dataframe\">\n",
              "  <thead>\n",
              "    <tr style=\"text-align: right;\">\n",
              "      <th></th>\n",
              "      <th>Pclass</th>\n",
              "      <th>Sex</th>\n",
              "      <th>Age</th>\n",
              "      <th>Fare</th>\n",
              "      <th>Embarked</th>\n",
              "      <th>IsAlone</th>\n",
              "      <th>Title</th>\n",
              "    </tr>\n",
              "  </thead>\n",
              "  <tbody>\n",
              "    <tr>\n",
              "      <th>0</th>\n",
              "      <td>3</td>\n",
              "      <td>1</td>\n",
              "      <td>2</td>\n",
              "      <td>0</td>\n",
              "      <td>2</td>\n",
              "      <td>1</td>\n",
              "      <td>1</td>\n",
              "    </tr>\n",
              "    <tr>\n",
              "      <th>1</th>\n",
              "      <td>3</td>\n",
              "      <td>0</td>\n",
              "      <td>2</td>\n",
              "      <td>0</td>\n",
              "      <td>0</td>\n",
              "      <td>0</td>\n",
              "      <td>3</td>\n",
              "    </tr>\n",
              "    <tr>\n",
              "      <th>2</th>\n",
              "      <td>2</td>\n",
              "      <td>1</td>\n",
              "      <td>3</td>\n",
              "      <td>1</td>\n",
              "      <td>2</td>\n",
              "      <td>1</td>\n",
              "      <td>1</td>\n",
              "    </tr>\n",
              "    <tr>\n",
              "      <th>3</th>\n",
              "      <td>3</td>\n",
              "      <td>1</td>\n",
              "      <td>1</td>\n",
              "      <td>1</td>\n",
              "      <td>0</td>\n",
              "      <td>1</td>\n",
              "      <td>1</td>\n",
              "    </tr>\n",
              "    <tr>\n",
              "      <th>4</th>\n",
              "      <td>3</td>\n",
              "      <td>0</td>\n",
              "      <td>1</td>\n",
              "      <td>1</td>\n",
              "      <td>0</td>\n",
              "      <td>0</td>\n",
              "      <td>3</td>\n",
              "    </tr>\n",
              "  </tbody>\n",
              "</table>\n",
              "</div>"
            ],
            "text/plain": [
              "   Pclass  Sex  Age  Fare  Embarked  IsAlone  Title\n",
              "0       3    1    2     0         2        1      1\n",
              "1       3    0    2     0         0        0      3\n",
              "2       2    1    3     1         2        1      1\n",
              "3       3    1    1     1         0        1      1\n",
              "4       3    0    1     1         0        0      3"
            ]
          },
          "metadata": {
            "tags": []
          },
          "execution_count": 19
        }
      ]
    },
    {
      "cell_type": "code",
      "metadata": {
        "id": "eZDDM12-9jug",
        "colab_type": "code",
        "colab": {}
      },
      "source": [
        "x_train=train.iloc[:,1:]\n",
        "y_train=train.iloc[:,0]\n",
        "x_test=test.iloc[:,:]"
      ],
      "execution_count": 0,
      "outputs": []
    },
    {
      "cell_type": "code",
      "metadata": {
        "id": "4xx4C237xsv6",
        "colab_type": "code",
        "outputId": "00aa4b38-4412-4ca6-a7fc-51d2514c1ac9",
        "colab": {
          "base_uri": "https://localhost:8080/",
          "height": 381
        }
      },
      "source": [
        "classifier = Sequential()\n",
        "classifier.add(Dense(units = 128, activation = 'relu', input_dim = 7))\n",
        "classifier.add(Dropout(rate = 0.5))\n",
        "classifier.add(Dense(units = 256, activation = 'relu'))\n",
        "classifier.add(Dropout(rate = 0.5))\n",
        "classifier.add(Dense(units = 128, activation = 'relu'))\n",
        "classifier.add(Dropout(rate = 0.4))\n",
        "classifier.add(Dense(units = 1, activation = 'sigmoid'))\n",
        "classifier.compile(optimizer = 'adam', loss = 'binary_crossentropy', metrics = ['accuracy'])\n",
        "classifier.summary()"
      ],
      "execution_count": 22,
      "outputs": [
        {
          "output_type": "stream",
          "text": [
            "_________________________________________________________________\n",
            "Layer (type)                 Output Shape              Param #   \n",
            "=================================================================\n",
            "dense_6 (Dense)              (None, 128)               1024      \n",
            "_________________________________________________________________\n",
            "dropout_5 (Dropout)          (None, 128)               0         \n",
            "_________________________________________________________________\n",
            "dense_7 (Dense)              (None, 256)               33024     \n",
            "_________________________________________________________________\n",
            "dropout_6 (Dropout)          (None, 256)               0         \n",
            "_________________________________________________________________\n",
            "dense_8 (Dense)              (None, 128)               32896     \n",
            "_________________________________________________________________\n",
            "dropout_7 (Dropout)          (None, 128)               0         \n",
            "_________________________________________________________________\n",
            "dense_9 (Dense)              (None, 1)                 129       \n",
            "=================================================================\n",
            "Total params: 67,073\n",
            "Trainable params: 67,073\n",
            "Non-trainable params: 0\n",
            "_________________________________________________________________\n"
          ],
          "name": "stdout"
        }
      ]
    },
    {
      "cell_type": "code",
      "metadata": {
        "id": "7oSVLfV6xsyq",
        "colab_type": "code",
        "outputId": "33ae3901-9e3a-46ef-a976-8909ef6e171d",
        "colab": {
          "base_uri": "https://localhost:8080/",
          "height": 1000
        }
      },
      "source": [
        "classifier.fit(x_train, y_train, batch_size = 10, nb_epoch = 100)"
      ],
      "execution_count": 23,
      "outputs": [
        {
          "output_type": "stream",
          "text": [
            "/usr/local/lib/python3.6/dist-packages/ipykernel_launcher.py:1: UserWarning: The `nb_epoch` argument in `fit` has been renamed `epochs`.\n",
            "  \"\"\"Entry point for launching an IPython kernel.\n"
          ],
          "name": "stderr"
        },
        {
          "output_type": "stream",
          "text": [
            "Epoch 1/100\n",
            "891/891 [==============================] - 1s 1ms/step - loss: 0.6202 - acc: 0.6543\n",
            "Epoch 2/100\n",
            "891/891 [==============================] - 0s 292us/step - loss: 0.5564 - acc: 0.7284\n",
            "Epoch 3/100\n",
            "891/891 [==============================] - 0s 255us/step - loss: 0.5387 - acc: 0.7531\n",
            "Epoch 4/100\n",
            "891/891 [==============================] - 0s 255us/step - loss: 0.5076 - acc: 0.7576\n",
            "Epoch 5/100\n",
            "891/891 [==============================] - 0s 282us/step - loss: 0.4978 - acc: 0.7879\n",
            "Epoch 6/100\n",
            "891/891 [==============================] - 0s 285us/step - loss: 0.4896 - acc: 0.7767\n",
            "Epoch 7/100\n",
            "891/891 [==============================] - 0s 279us/step - loss: 0.4917 - acc: 0.7845\n",
            "Epoch 8/100\n",
            "891/891 [==============================] - 0s 273us/step - loss: 0.4690 - acc: 0.7935\n",
            "Epoch 9/100\n",
            "891/891 [==============================] - 0s 256us/step - loss: 0.4670 - acc: 0.8025\n",
            "Epoch 10/100\n",
            "891/891 [==============================] - 0s 252us/step - loss: 0.4467 - acc: 0.8193\n",
            "Epoch 11/100\n",
            "891/891 [==============================] - 0s 270us/step - loss: 0.4664 - acc: 0.7924\n",
            "Epoch 12/100\n",
            "891/891 [==============================] - 0s 239us/step - loss: 0.4627 - acc: 0.8070\n",
            "Epoch 13/100\n",
            "891/891 [==============================] - 0s 250us/step - loss: 0.4635 - acc: 0.7811\n",
            "Epoch 14/100\n",
            "891/891 [==============================] - 0s 259us/step - loss: 0.4716 - acc: 0.7912\n",
            "Epoch 15/100\n",
            "891/891 [==============================] - 0s 257us/step - loss: 0.4538 - acc: 0.8182\n",
            "Epoch 16/100\n",
            "891/891 [==============================] - 0s 252us/step - loss: 0.4554 - acc: 0.7991\n",
            "Epoch 17/100\n",
            "891/891 [==============================] - 0s 252us/step - loss: 0.4571 - acc: 0.8002\n",
            "Epoch 18/100\n",
            "891/891 [==============================] - 0s 255us/step - loss: 0.4546 - acc: 0.7946\n",
            "Epoch 19/100\n",
            "891/891 [==============================] - 0s 247us/step - loss: 0.4313 - acc: 0.8126\n",
            "Epoch 20/100\n",
            "891/891 [==============================] - 0s 252us/step - loss: 0.4431 - acc: 0.8193\n",
            "Epoch 21/100\n",
            "891/891 [==============================] - 0s 258us/step - loss: 0.4308 - acc: 0.8103\n",
            "Epoch 22/100\n",
            "891/891 [==============================] - 0s 238us/step - loss: 0.4566 - acc: 0.8013\n",
            "Epoch 23/100\n",
            "891/891 [==============================] - 0s 269us/step - loss: 0.4424 - acc: 0.8025\n",
            "Epoch 24/100\n",
            "891/891 [==============================] - 0s 315us/step - loss: 0.4427 - acc: 0.8260\n",
            "Epoch 25/100\n",
            "891/891 [==============================] - 0s 246us/step - loss: 0.4516 - acc: 0.8126\n",
            "Epoch 26/100\n",
            "891/891 [==============================] - 0s 254us/step - loss: 0.4523 - acc: 0.8126\n",
            "Epoch 27/100\n",
            "891/891 [==============================] - 0s 248us/step - loss: 0.4345 - acc: 0.8070\n",
            "Epoch 28/100\n",
            "891/891 [==============================] - 0s 233us/step - loss: 0.4430 - acc: 0.8182\n",
            "Epoch 29/100\n",
            "891/891 [==============================] - 0s 271us/step - loss: 0.4436 - acc: 0.8103\n",
            "Epoch 30/100\n",
            "891/891 [==============================] - 0s 257us/step - loss: 0.4302 - acc: 0.8260\n",
            "Epoch 31/100\n",
            "891/891 [==============================] - 0s 260us/step - loss: 0.4238 - acc: 0.8148\n",
            "Epoch 32/100\n",
            "891/891 [==============================] - 0s 258us/step - loss: 0.4394 - acc: 0.8114\n",
            "Epoch 33/100\n",
            "891/891 [==============================] - 0s 261us/step - loss: 0.4225 - acc: 0.8126\n",
            "Epoch 34/100\n",
            "891/891 [==============================] - 0s 240us/step - loss: 0.4283 - acc: 0.8215\n",
            "Epoch 35/100\n",
            "891/891 [==============================] - 0s 269us/step - loss: 0.4334 - acc: 0.8103\n",
            "Epoch 36/100\n",
            "891/891 [==============================] - 0s 254us/step - loss: 0.4372 - acc: 0.8081\n",
            "Epoch 37/100\n",
            "891/891 [==============================] - 0s 239us/step - loss: 0.4163 - acc: 0.8159\n",
            "Epoch 38/100\n",
            "891/891 [==============================] - 0s 255us/step - loss: 0.4229 - acc: 0.8260\n",
            "Epoch 39/100\n",
            "891/891 [==============================] - 0s 268us/step - loss: 0.4395 - acc: 0.8204\n",
            "Epoch 40/100\n",
            "891/891 [==============================] - 0s 235us/step - loss: 0.4323 - acc: 0.8092\n",
            "Epoch 41/100\n",
            "891/891 [==============================] - 0s 262us/step - loss: 0.4330 - acc: 0.8204\n",
            "Epoch 42/100\n",
            "891/891 [==============================] - 0s 262us/step - loss: 0.4320 - acc: 0.8260\n",
            "Epoch 43/100\n",
            "891/891 [==============================] - 0s 262us/step - loss: 0.4301 - acc: 0.8204\n",
            "Epoch 44/100\n",
            "891/891 [==============================] - 0s 259us/step - loss: 0.4281 - acc: 0.8204\n",
            "Epoch 45/100\n",
            "891/891 [==============================] - 0s 248us/step - loss: 0.4296 - acc: 0.8182\n",
            "Epoch 46/100\n",
            "891/891 [==============================] - 0s 241us/step - loss: 0.4091 - acc: 0.8339\n",
            "Epoch 47/100\n",
            "891/891 [==============================] - 0s 261us/step - loss: 0.4283 - acc: 0.8260\n",
            "Epoch 48/100\n",
            "891/891 [==============================] - 0s 258us/step - loss: 0.4186 - acc: 0.8182\n",
            "Epoch 49/100\n",
            "891/891 [==============================] - 0s 251us/step - loss: 0.4225 - acc: 0.8260\n",
            "Epoch 50/100\n",
            "891/891 [==============================] - 0s 254us/step - loss: 0.4324 - acc: 0.8126\n",
            "Epoch 51/100\n",
            "891/891 [==============================] - 0s 257us/step - loss: 0.4283 - acc: 0.8114\n",
            "Epoch 52/100\n",
            "891/891 [==============================] - 0s 245us/step - loss: 0.4309 - acc: 0.8193\n",
            "Epoch 53/100\n",
            "891/891 [==============================] - 0s 251us/step - loss: 0.4213 - acc: 0.8215\n",
            "Epoch 54/100\n",
            "891/891 [==============================] - 0s 248us/step - loss: 0.4232 - acc: 0.8171\n",
            "Epoch 55/100\n",
            "891/891 [==============================] - 0s 252us/step - loss: 0.4189 - acc: 0.8238\n",
            "Epoch 56/100\n",
            "891/891 [==============================] - 0s 248us/step - loss: 0.4152 - acc: 0.8204\n",
            "Epoch 57/100\n",
            "891/891 [==============================] - 0s 258us/step - loss: 0.4210 - acc: 0.8260\n",
            "Epoch 58/100\n",
            "891/891 [==============================] - 0s 264us/step - loss: 0.4167 - acc: 0.8373\n",
            "Epoch 59/100\n",
            "891/891 [==============================] - 0s 248us/step - loss: 0.4046 - acc: 0.8272\n",
            "Epoch 60/100\n",
            "891/891 [==============================] - 0s 250us/step - loss: 0.4211 - acc: 0.8238\n",
            "Epoch 61/100\n",
            "891/891 [==============================] - 0s 255us/step - loss: 0.4239 - acc: 0.8260\n",
            "Epoch 62/100\n",
            "891/891 [==============================] - 0s 245us/step - loss: 0.4177 - acc: 0.8238\n",
            "Epoch 63/100\n",
            "891/891 [==============================] - 0s 255us/step - loss: 0.4418 - acc: 0.8148\n",
            "Epoch 64/100\n",
            "891/891 [==============================] - 0s 251us/step - loss: 0.4211 - acc: 0.8283\n",
            "Epoch 65/100\n",
            "891/891 [==============================] - 0s 270us/step - loss: 0.4094 - acc: 0.8328\n",
            "Epoch 66/100\n",
            "891/891 [==============================] - 0s 245us/step - loss: 0.4175 - acc: 0.8249\n",
            "Epoch 67/100\n",
            "891/891 [==============================] - 0s 247us/step - loss: 0.4377 - acc: 0.8249\n",
            "Epoch 68/100\n",
            "891/891 [==============================] - 0s 244us/step - loss: 0.4093 - acc: 0.8305\n",
            "Epoch 69/100\n",
            "891/891 [==============================] - 0s 234us/step - loss: 0.4022 - acc: 0.8361\n",
            "Epoch 70/100\n",
            "891/891 [==============================] - 0s 259us/step - loss: 0.4113 - acc: 0.8272\n",
            "Epoch 71/100\n",
            "891/891 [==============================] - 0s 258us/step - loss: 0.4217 - acc: 0.8126\n",
            "Epoch 72/100\n",
            "891/891 [==============================] - 0s 265us/step - loss: 0.3963 - acc: 0.8316\n",
            "Epoch 73/100\n",
            "891/891 [==============================] - 0s 248us/step - loss: 0.4127 - acc: 0.8238\n",
            "Epoch 74/100\n",
            "891/891 [==============================] - 0s 247us/step - loss: 0.4176 - acc: 0.8182\n",
            "Epoch 75/100\n",
            "891/891 [==============================] - 0s 224us/step - loss: 0.4094 - acc: 0.8373\n",
            "Epoch 76/100\n",
            "891/891 [==============================] - 0s 250us/step - loss: 0.4107 - acc: 0.8227\n",
            "Epoch 77/100\n",
            "891/891 [==============================] - 0s 263us/step - loss: 0.4013 - acc: 0.8350\n",
            "Epoch 78/100\n",
            "891/891 [==============================] - 0s 259us/step - loss: 0.4133 - acc: 0.8283\n",
            "Epoch 79/100\n",
            "891/891 [==============================] - 0s 242us/step - loss: 0.4162 - acc: 0.8249\n",
            "Epoch 80/100\n",
            "891/891 [==============================] - 0s 242us/step - loss: 0.4146 - acc: 0.8294\n",
            "Epoch 81/100\n",
            "891/891 [==============================] - 0s 225us/step - loss: 0.3990 - acc: 0.8361\n",
            "Epoch 82/100\n",
            "891/891 [==============================] - 0s 275us/step - loss: 0.3981 - acc: 0.8395\n",
            "Epoch 83/100\n",
            "891/891 [==============================] - 0s 263us/step - loss: 0.4026 - acc: 0.8260\n",
            "Epoch 84/100\n",
            "891/891 [==============================] - 0s 251us/step - loss: 0.4182 - acc: 0.8227\n",
            "Epoch 85/100\n",
            "891/891 [==============================] - 0s 246us/step - loss: 0.3982 - acc: 0.8406\n",
            "Epoch 86/100\n",
            "891/891 [==============================] - 0s 240us/step - loss: 0.4050 - acc: 0.8316\n",
            "Epoch 87/100\n",
            "891/891 [==============================] - 0s 234us/step - loss: 0.4073 - acc: 0.8215\n",
            "Epoch 88/100\n",
            "891/891 [==============================] - 0s 240us/step - loss: 0.4025 - acc: 0.8361\n",
            "Epoch 89/100\n",
            "891/891 [==============================] - 0s 257us/step - loss: 0.4052 - acc: 0.8361\n",
            "Epoch 90/100\n",
            "891/891 [==============================] - 0s 263us/step - loss: 0.4158 - acc: 0.8249\n",
            "Epoch 91/100\n",
            "891/891 [==============================] - 0s 252us/step - loss: 0.4074 - acc: 0.8328\n",
            "Epoch 92/100\n",
            "891/891 [==============================] - 0s 240us/step - loss: 0.4072 - acc: 0.8283\n",
            "Epoch 93/100\n",
            "891/891 [==============================] - 0s 228us/step - loss: 0.3954 - acc: 0.8294\n",
            "Epoch 94/100\n",
            "891/891 [==============================] - 0s 233us/step - loss: 0.3995 - acc: 0.8328\n",
            "Epoch 95/100\n",
            "891/891 [==============================] - 0s 234us/step - loss: 0.3984 - acc: 0.8272\n",
            "Epoch 96/100\n",
            "891/891 [==============================] - 0s 259us/step - loss: 0.4005 - acc: 0.8361\n",
            "Epoch 97/100\n",
            "891/891 [==============================] - 0s 261us/step - loss: 0.3999 - acc: 0.8305\n",
            "Epoch 98/100\n",
            "891/891 [==============================] - 0s 250us/step - loss: 0.4192 - acc: 0.8215\n",
            "Epoch 99/100\n",
            "891/891 [==============================] - 0s 237us/step - loss: 0.4223 - acc: 0.8272\n",
            "Epoch 100/100\n",
            "891/891 [==============================] - 0s 232us/step - loss: 0.3936 - acc: 0.8429\n"
          ],
          "name": "stdout"
        },
        {
          "output_type": "execute_result",
          "data": {
            "text/plain": [
              "<keras.callbacks.History at 0x7ff7b664ed68>"
            ]
          },
          "metadata": {
            "tags": []
          },
          "execution_count": 23
        }
      ]
    },
    {
      "cell_type": "code",
      "metadata": {
        "id": "toA2rATXxs1E",
        "colab_type": "code",
        "colab": {}
      },
      "source": [
        "pred = classifier.predict(x_test)\n",
        "pred=(pred>0.5)"
      ],
      "execution_count": 0,
      "outputs": []
    },
    {
      "cell_type": "code",
      "metadata": {
        "id": "hDusQjSkxstq",
        "colab_type": "code",
        "outputId": "71e80ecf-3eac-4907-a671-6681b710f303",
        "colab": {
          "base_uri": "https://localhost:8080/",
          "height": 347
        }
      },
      "source": [
        "pred=pred.astype(int)\n",
        "pred=pred.ravel()\n",
        "pred"
      ],
      "execution_count": 25,
      "outputs": [
        {
          "output_type": "execute_result",
          "data": {
            "text/plain": [
              "array([0, 1, 0, 0, 1, 0, 1, 0, 1, 0, 0, 0, 1, 0, 1, 1, 0, 0, 0, 1, 0, 1,\n",
              "       1, 0, 1, 0, 1, 0, 0, 0, 0, 0, 0, 0, 0, 0, 0, 0, 0, 0, 0, 0, 0, 1,\n",
              "       1, 0, 1, 0, 1, 0, 0, 0, 1, 1, 0, 0, 0, 0, 0, 1, 0, 0, 0, 1, 1, 1,\n",
              "       1, 0, 0, 1, 1, 0, 0, 0, 1, 0, 0, 1, 0, 1, 1, 0, 0, 0, 0, 0, 1, 0,\n",
              "       1, 1, 1, 0, 1, 0, 0, 0, 1, 0, 1, 0, 1, 0, 0, 0, 1, 0, 0, 0, 0, 0,\n",
              "       0, 1, 1, 1, 1, 0, 0, 0, 0, 1, 1, 0, 1, 0, 0, 0, 0, 1, 0, 0, 0, 0,\n",
              "       0, 0, 0, 0, 0, 0, 0, 0, 0, 1, 0, 0, 0, 0, 0, 0, 0, 1, 1, 0, 0, 1,\n",
              "       0, 0, 1, 1, 0, 1, 1, 1, 1, 0, 0, 0, 0, 0, 1, 0, 0, 0, 0, 0, 0, 1,\n",
              "       1, 0, 1, 1, 0, 1, 1, 0, 1, 0, 1, 0, 0, 0, 0, 0, 0, 0, 1, 0, 1, 1,\n",
              "       0, 1, 1, 1, 1, 1, 0, 1, 1, 0, 1, 0, 0, 0, 0, 1, 0, 0, 1, 0, 1, 0,\n",
              "       1, 0, 1, 0, 1, 1, 0, 1, 0, 0, 0, 1, 0, 0, 1, 0, 0, 0, 1, 1, 1, 1,\n",
              "       1, 0, 0, 0, 1, 0, 1, 1, 1, 0, 0, 0, 0, 0, 0, 0, 1, 0, 0, 0, 1, 1,\n",
              "       0, 0, 0, 0, 0, 0, 0, 0, 1, 1, 0, 1, 0, 0, 0, 0, 0, 1, 1, 1, 0, 0,\n",
              "       0, 0, 0, 0, 0, 1, 0, 1, 0, 0, 1, 0, 0, 0, 0, 0, 0, 0, 1, 1, 0, 1,\n",
              "       0, 1, 0, 0, 0, 1, 1, 1, 0, 0, 0, 0, 0, 0, 0, 0, 1, 0, 1, 0, 0, 0,\n",
              "       1, 1, 0, 1, 0, 0, 0, 0, 0, 0, 0, 0, 0, 1, 0, 1, 0, 1, 0, 1, 1, 0,\n",
              "       0, 0, 0, 0, 1, 0, 0, 0, 0, 1, 1, 0, 1, 0, 0, 0, 1, 0, 0, 1, 0, 0,\n",
              "       1, 1, 0, 0, 0, 0, 0, 0, 1, 0, 0, 1, 0, 0, 0, 0, 0, 1, 0, 0, 0, 1,\n",
              "       0, 1, 0, 0, 1, 0, 1, 0, 0, 0, 0, 0, 1, 1, 1, 1, 1, 0, 1, 0, 0, 1])"
            ]
          },
          "metadata": {
            "tags": []
          },
          "execution_count": 25
        }
      ]
    },
    {
      "cell_type": "code",
      "metadata": {
        "id": "JGWu4PvHxshl",
        "colab_type": "code",
        "colab": {}
      },
      "source": [
        "# Generate Submission File \n",
        "StackingSubmission = pd.DataFrame({ 'PassengerId': PassengerId,\n",
        "                            'Survived': pred })\n",
        "StackingSubmission.to_csv(\"StackingSubmission.csv\", index=False)"
      ],
      "execution_count": 0,
      "outputs": []
    },
    {
      "cell_type": "code",
      "metadata": {
        "id": "yop7FfF1Sj_y",
        "colab_type": "code",
        "colab": {}
      },
      "source": [
        ""
      ],
      "execution_count": 0,
      "outputs": []
    }
  ]
}